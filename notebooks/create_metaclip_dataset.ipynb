{
 "cells": [
  {
   "cell_type": "markdown",
   "metadata": {},
   "source": [
    "# MetaCLIP Dataset Creation\n",
    "\n",
    "In this notebook, we mirror the method of [MetaCLIP](https://arxiv.org/pdf/2309.16671) to create a rebalanced version of the ImageNet-Captions 250k dataset."
   ]
  },
  {
   "cell_type": "code",
   "execution_count": 1,
   "metadata": {},
   "outputs": [],
   "source": [
    "import json\n",
    "import numpy as np\n",
    "import pandas as pd\n",
    "import os\n",
    "from tqdm import tqdm\n",
    "\n",
    "import matplotlib.pyplot as plt\n",
    "import seaborn as sns\n",
    "\n",
    "import matplotlib as mpl\n",
    "\n",
    "mpl.rcParams['lines.linewidth'] = 3\n",
    "mpl.rcParams['xtick.labelsize'] = 15\n",
    "mpl.rcParams['ytick.labelsize'] = 15\n",
    "mpl.rcParams[\"axes.labelsize\"] = 15\n",
    "mpl.rcParams['legend.fontsize'] = 20\n",
    "mpl.rcParams['axes.titlesize'] = 20\n",
    "mpl.rcParams['pdf.fonttype'] = 42\n",
    "mpl.rcParams['ps.fonttype'] = 42"
   ]
  },
  {
   "cell_type": "markdown",
   "metadata": {},
   "source": [
    "In order to do this, we have to re-interpret the method slightly to consider $(X, Y)$ pairs where $X$ is an text pair (or nested image-text pair), and $Y$ is an \"entry\" or keyword phrase which is used to search captions. A caption can be matched with multiple entries (and vice versa). We make the choice to consider a text-entry pair to be a single datum, as the distribution that is considered in MetaCLIP is a distribution over entries. However, when we are in the multi-label setting (as are the authors of MetaCLIP), this is difficult to work with because the distribution is over the set of entry labels taken from all examples.\n",
    "\n",
    "Set `DATA_PATH` to the desired location below."
   ]
  },
  {
   "cell_type": "code",
   "execution_count": 2,
   "metadata": {},
   "outputs": [],
   "source": [
    "# true numbers based on the ImageNet-Captions dataset\n",
    "N_ENTRIES = 500000\n",
    "N_CAPTIONS = 174594\n",
    "\n",
    "# miniature numbers for illustration or testing\n",
    "# N_ENTRIES = 10000 \n",
    "# N_CAPTIONS = 10000\n",
    "\n",
    "NUM_CLASSES = 250\n",
    "DATA_PATH = f'/mnt/ssd/ronak/datasets/rebalanced_imagenet_captions_{NUM_CLASSES}k'"
   ]
  },
  {
   "cell_type": "markdown",
   "metadata": {},
   "source": [
    "## Load ImageNet-Captions Dataset and MetaCLIP Metadata\n",
    "\n",
    "Select a random subset of the entries used to match captions. The `metadata.json` is taken from the authors, which includes the keywords (entries) used to search the initial captions."
   ]
  },
  {
   "cell_type": "code",
   "execution_count": 3,
   "metadata": {},
   "outputs": [
    {
     "name": "stdout",
     "output_type": "stream",
     "text": [
      "500000\n",
      "['Piyawee Ruenjinda' 'walkout' 'sjd' 'Gary Cahill' 'gogra' 'kościół'\n",
      " 'pasquier' 'phayre' 'ssac' 'orsi' 'universalist' 'tenayuca'\n",
      " 'nilaimozhi iiRu' \"film's\" 'viby' 'Pikkuoravien joululaulu' 'hazels'\n",
      " 'Sonnet 18' 'BMW Championship (PGA Tour)' 'kendra' '033747 Marzahna'\n",
      " 'Greg Olsen (American football)' 'David Wallace-Wells' 'lakkundi'\n",
      " 'stipules' 'rupicapra' 'Mawaan Rizwan' 'Kelly Graves'\n",
      " 'Dead code elimination' 'Wunderwaffe']\n"
     ]
    }
   ],
   "source": [
    "with open(\"../data/metadata.json\") as f:\n",
    "    metadata = json.load(f)\n",
    "\n",
    "np.random.seed(123)\n",
    "metadata = np.array(metadata)[np.random.choice(len(metadata), N_ENTRIES, replace=False)]\n",
    "print(len(metadata))\n",
    "print(metadata[:min(30, N_ENTRIES)])"
   ]
  },
  {
   "cell_type": "markdown",
   "metadata": {},
   "source": [
    "In `load_dir` specify the location of the original ImageNet-Captions dataset stored on your system (i.e., the output of `notebooks/create_imagenet_captions.ipynb`)."
   ]
  },
  {
   "cell_type": "code",
   "execution_count": 4,
   "metadata": {},
   "outputs": [
    {
     "data": {
      "text/html": [
       "<div>\n",
       "<style scoped>\n",
       "    .dataframe tbody tr th:only-of-type {\n",
       "        vertical-align: middle;\n",
       "    }\n",
       "\n",
       "    .dataframe tbody tr th {\n",
       "        vertical-align: top;\n",
       "    }\n",
       "\n",
       "    .dataframe thead th {\n",
       "        text-align: right;\n",
       "    }\n",
       "</style>\n",
       "<table border=\"1\" class=\"dataframe\">\n",
       "  <thead>\n",
       "    <tr style=\"text-align: right;\">\n",
       "      <th></th>\n",
       "      <th>title</th>\n",
       "      <th>filepath</th>\n",
       "    </tr>\n",
       "  </thead>\n",
       "  <tbody>\n",
       "    <tr>\n",
       "      <th>0</th>\n",
       "      <td>120-2060_IMG</td>\n",
       "      <td>/mnt/ssd/ronak/datasets/imagenet_captions_250k...</td>\n",
       "    </tr>\n",
       "    <tr>\n",
       "      <th>1</th>\n",
       "      <td>127-2701_IMG</td>\n",
       "      <td>/mnt/ssd/ronak/datasets/imagenet_captions_250k...</td>\n",
       "    </tr>\n",
       "    <tr>\n",
       "      <th>2</th>\n",
       "      <td>Tusker</td>\n",
       "      <td>/mnt/ssd/ronak/datasets/imagenet_captions_250k...</td>\n",
       "    </tr>\n",
       "    <tr>\n",
       "      <th>3</th>\n",
       "      <td>Old Tusker</td>\n",
       "      <td>/mnt/ssd/ronak/datasets/imagenet_captions_250k...</td>\n",
       "    </tr>\n",
       "    <tr>\n",
       "      <th>4</th>\n",
       "      <td>IMG_0031</td>\n",
       "      <td>/mnt/ssd/ronak/datasets/imagenet_captions_250k...</td>\n",
       "    </tr>\n",
       "    <tr>\n",
       "      <th>...</th>\n",
       "      <td>...</td>\n",
       "      <td>...</td>\n",
       "    </tr>\n",
       "    <tr>\n",
       "      <th>174589</th>\n",
       "      <td>Royal Albatross (Northern)</td>\n",
       "      <td>/mnt/ssd/ronak/datasets/imagenet_captions_250k...</td>\n",
       "    </tr>\n",
       "    <tr>\n",
       "      <th>174590</th>\n",
       "      <td>albatross</td>\n",
       "      <td>/mnt/ssd/ronak/datasets/imagenet_captions_250k...</td>\n",
       "    </tr>\n",
       "    <tr>\n",
       "      <th>174591</th>\n",
       "      <td>mollymawk 3</td>\n",
       "      <td>/mnt/ssd/ronak/datasets/imagenet_captions_250k...</td>\n",
       "    </tr>\n",
       "    <tr>\n",
       "      <th>174592</th>\n",
       "      <td>Laysan albatross w/ chick</td>\n",
       "      <td>/mnt/ssd/ronak/datasets/imagenet_captions_250k...</td>\n",
       "    </tr>\n",
       "    <tr>\n",
       "      <th>174593</th>\n",
       "      <td>Wandering Albatross</td>\n",
       "      <td>/mnt/ssd/ronak/datasets/imagenet_captions_250k...</td>\n",
       "    </tr>\n",
       "  </tbody>\n",
       "</table>\n",
       "<p>174594 rows × 2 columns</p>\n",
       "</div>"
      ],
      "text/plain": [
       "                             title  \\\n",
       "0                     120-2060_IMG   \n",
       "1                     127-2701_IMG   \n",
       "2                           Tusker   \n",
       "3                       Old Tusker   \n",
       "4                         IMG_0031   \n",
       "...                            ...   \n",
       "174589  Royal Albatross (Northern)   \n",
       "174590                   albatross   \n",
       "174591                 mollymawk 3   \n",
       "174592   Laysan albatross w/ chick   \n",
       "174593         Wandering Albatross   \n",
       "\n",
       "                                                 filepath  \n",
       "0       /mnt/ssd/ronak/datasets/imagenet_captions_250k...  \n",
       "1       /mnt/ssd/ronak/datasets/imagenet_captions_250k...  \n",
       "2       /mnt/ssd/ronak/datasets/imagenet_captions_250k...  \n",
       "3       /mnt/ssd/ronak/datasets/imagenet_captions_250k...  \n",
       "4       /mnt/ssd/ronak/datasets/imagenet_captions_250k...  \n",
       "...                                                   ...  \n",
       "174589  /mnt/ssd/ronak/datasets/imagenet_captions_250k...  \n",
       "174590  /mnt/ssd/ronak/datasets/imagenet_captions_250k...  \n",
       "174591  /mnt/ssd/ronak/datasets/imagenet_captions_250k...  \n",
       "174592  /mnt/ssd/ronak/datasets/imagenet_captions_250k...  \n",
       "174593  /mnt/ssd/ronak/datasets/imagenet_captions_250k...  \n",
       "\n",
       "[174594 rows x 2 columns]"
      ]
     },
     "execution_count": 4,
     "metadata": {},
     "output_type": "execute_result"
    }
   ],
   "source": [
    "load_dir = f'/mnt/ssd/ronak/datasets/imagenet_captions_{NUM_CLASSES}k'\n",
    "train_df = pd.read_csv(os.path.join(load_dir, f\"imagenet_captions_train_c{NUM_CLASSES}.csv\"), header=0, sep=\"\\t\")\n",
    "val_df = pd.read_csv(os.path.join(load_dir, f\"imagenet_captions_val_c{NUM_CLASSES}.csv\"), header=0, sep=\"\\t\")\n",
    "\n",
    "train_df"
   ]
  },
  {
   "cell_type": "code",
   "execution_count": 5,
   "metadata": {},
   "outputs": [
    {
     "name": "stdout",
     "output_type": "stream",
     "text": [
      "125457\n",
      "['100_2017' 'Geyser with Rainbow' 'IMG_1535' 'Barn cat' 'Surburban Pickup'\n",
      " 'ampersand embroidery' \"'insane clustrofobie'\" 'Pinwheel cardigan'\n",
      " 'old ladles' 'pomPas expO' 'Black hen' 'Blue circus pillow - reverse'\n",
      " 'Tangerines' 'Tricera-body' 'Chapter Apron' 'DSC_0713' 'Run free'\n",
      " 'Path Monkey, Zimbabwe' 'P4244156' 'Amsterdam Geese'\n",
      " 'Day 124- Macro Monday' 'Rocky Mountain Bighorn Sheep Ram'\n",
      " 'Leaderfoot Viaduct over the River Tweed'\n",
      " 'pillow cover 2 :: dots + seeds (front)' 'P8310028' 'Common Starling'\n",
      " 'Small Fly Macro' 'Sombrero - Supersized!'\n",
      " 'Dorytomus longimanus female or D.taeniatus DSCF0059' 'hanky and garter']\n"
     ]
    }
   ],
   "source": [
    "np.random.seed(123)\n",
    "sample_space = np.unique(train_df['title'].to_numpy())\n",
    "captions = sample_space[np.random.choice(len(sample_space), min(N_CAPTIONS, len(sample_space)), replace=False)]\n",
    "print(len(captions))\n",
    "print(captions[:min(30, N_CAPTIONS)])"
   ]
  },
  {
   "cell_type": "markdown",
   "metadata": {},
   "source": [
    "## Perform Substring Matching\n",
    "\n",
    "We generate our reference matrix by checking, for each caption, how many entries are matched. We then split and consider these to be different training examples."
   ]
  },
  {
   "cell_type": "code",
   "execution_count": 6,
   "metadata": {},
   "outputs": [
    {
     "name": "stdout",
     "output_type": "stream",
     "text": [
      "Requirement already satisfied: pyahocorasick in /home/ronak/miniconda3/envs/dl/lib/python3.11/site-packages (2.1.0)\n"
     ]
    }
   ],
   "source": [
    "!pip install pyahocorasick\n",
    "import ahocorasick"
   ]
  },
  {
   "cell_type": "code",
   "execution_count": 7,
   "metadata": {},
   "outputs": [],
   "source": [
    "# Copyright (c) Meta Platforms, Inc. and affiliates\n",
    "\n",
    "automaton = None\n",
    "spaced_metadata = None\n",
    "\n",
    "def initialize_automaton(metadata):\n",
    "    automaton = ahocorasick.Automaton()\n",
    "    for idx, key in enumerate(spaced_metadata):\n",
    "        automaton.add_word(key, (idx, key))\n",
    "    automaton.make_automaton()\n",
    "    return automaton\n",
    "\n",
    "def spacing(text):\n",
    "    puncts_to_wrap = [\",\", \".\", \";\", \":\", \"?\", \"!\", \"`\"]\n",
    "    chars_to_space = [\"\\t\", \"\\n\", \"\\r\"]\n",
    "\n",
    "    spaced_text = f\" {text} \"\n",
    "    for punct_to_wrap in puncts_to_wrap:\n",
    "        spaced_text = spaced_text.replace(\n",
    "            punct_to_wrap, f\" {punct_to_wrap} \"\n",
    "        )\n",
    "    for char_to_space in chars_to_space:\n",
    "        spaced_text = spaced_text.replace(char_to_space, \" \")\n",
    "    return spaced_text\n",
    "\n",
    "\n",
    "def substr_matching(text, metadata):\n",
    "    global spaced_metadata, automaton\n",
    "    if spaced_metadata is None:\n",
    "        spaced_metadata = [f\" {entry} \" for entry in metadata]\n",
    "    text = spacing(text)\n",
    "    if automaton is None:\n",
    "        automaton = initialize_automaton(metadata)\n",
    "    matched_entry_ids = set()\n",
    "    for end_index, (entry_id, original_value) in automaton.iter(text):\n",
    "        matched_entry_ids.add(entry_id)\n",
    "    return list(matched_entry_ids)"
   ]
  },
  {
   "cell_type": "code",
   "execution_count": 8,
   "metadata": {},
   "outputs": [
    {
     "name": "stderr",
     "output_type": "stream",
     "text": [
      "125457it [00:02, 55445.69it/s] "
     ]
    },
    {
     "name": "stdout",
     "output_type": "stream",
     "text": [
      "87235/125457 (0.695) captions have matches.\n"
     ]
    },
    {
     "name": "stderr",
     "output_type": "stream",
     "text": [
      "\n"
     ]
    }
   ],
   "source": [
    "matched_ids = {}\n",
    "captions_per_entry = np.zeros(N_ENTRIES).astype(int)\n",
    "reindex_captions = []\n",
    "text_captions = []\n",
    "for i, text in tqdm(enumerate(captions)):\n",
    "    ids = substr_matching(text, metadata)\n",
    "    if len(ids) > 0:\n",
    "        matched_ids[text] = ids\n",
    "        reindex_captions.append(i)\n",
    "        text_captions.append(text)\n",
    "        for entry in ids:\n",
    "            captions_per_entry[entry] += 1\n",
    "\n",
    "print(f\"{len(matched_ids)}/{len(captions)} ({len(matched_ids)/len(captions):0.3f}) captions have matches.\")"
   ]
  },
  {
   "cell_type": "code",
   "execution_count": 9,
   "metadata": {},
   "outputs": [
    {
     "name": "stdout",
     "output_type": "stream",
     "text": [
      "Geyser with Rainbow : ['with', 'Rainbow']\n",
      "Barn cat : ['cat']\n",
      "ampersand embroidery : ['embroidery', 'ampersand']\n",
      "Pinwheel cardigan : ['cardigan']\n",
      "old ladles : ['old', 'ladles']\n",
      "Black hen : ['Black', 'hen']\n",
      "Blue circus pillow - reverse : ['Blue', 'pillow', 'circus', 'reverse']\n",
      "Run free : ['free']\n",
      "Path Monkey, Zimbabwe : ['Monkey', 'Zimbabwe']\n",
      "Amsterdam Geese : ['Amsterdam']\n",
      "Day 124- Macro Monday : ['Day']\n",
      "Rocky Mountain Bighorn Sheep Ram : ['Rocky', 'Mountain', 'Sheep']\n",
      "Leaderfoot Viaduct over the River Tweed : ['the', 'River', 'over']\n",
      "pillow cover 2 :: dots + seeds (front) : ['2', 'pillow', 'seeds', 'dots', 'cover']\n",
      "Small Fly Macro : ['Fly']\n",
      "Dorytomus longimanus female or D.taeniatus DSCF0059 : ['taeniatus', 'longimanus', 'D', 'female', 'or']\n",
      "hanky and garter : ['garter', 'and', 'hanky']\n",
      "green lacewing Chrysopa carnea Rutland Water, UK August 2008 : ['August', 'Water', 'green', 'carnea', 'UK', 'green lacewing', 'lacewing']\n",
      "Joy of a Connection : ['of', 'a']\n",
      "The ubiquitous chakka ! : ['ubiquitous', 'The']\n"
     ]
    }
   ],
   "source": [
    "for caption in text_captions[0:20]:\n",
    "    print(f\"{caption} : {[metadata[j] for j in matched_ids[caption]]}\")"
   ]
  },
  {
   "cell_type": "markdown",
   "metadata": {},
   "source": [
    "Ultimately, the multi-label to single-label approximation is sufficient because most captions are matched to a unique entry."
   ]
  },
  {
   "cell_type": "code",
   "execution_count": 10,
   "metadata": {},
   "outputs": [
    {
     "name": "stdout",
     "output_type": "stream",
     "text": [
      "2.400206339198716\n",
      "2.0\n",
      "209382\n",
      "209382\n",
      "500000\n"
     ]
    }
   ],
   "source": [
    "entries_per_caption = np.array([len(matched_ids[caption]) for caption in text_captions])\n",
    "print(entries_per_caption.mean())\n",
    "print(np.median(entries_per_caption))\n",
    "print(entries_per_caption.sum())\n",
    "print(captions_per_entry.sum())\n",
    "print(len(captions_per_entry))"
   ]
  },
  {
   "cell_type": "markdown",
   "metadata": {},
   "source": [
    "We generate a similar plot to Figure 2 in the MetaCLIP paper to select the cut-off point, usually called $t$."
   ]
  },
  {
   "cell_type": "code",
   "execution_count": 11,
   "metadata": {},
   "outputs": [
    {
     "data": {
      "image/png": "[encoded data removed]",
      "text/plain": [
       "<Figure size 600x600 with 1 Axes>"
      ]
     },
     "metadata": {},
     "output_type": "display_data"
    }
   ],
   "source": [
    "sns.set_style(\"whitegrid\")\n",
    "\n",
    "fig, ax = plt.subplots(1, 1, figsize=(6, 6))\n",
    "\n",
    "t = 50\n",
    "\n",
    "counts = captions_per_entry[captions_per_entry != 0]\n",
    "y = np.sort(counts)\n",
    "x = np.arange(len(y))\n",
    "ax.plot(x, y, color=\"tab:gray\")\n",
    "ax.hlines(y=t, xmin=0, xmax=len(counts), color=\"tab:red\", linestyle=\"--\", label=r\"$t =$\" + f\"{t}\")\n",
    "\n",
    "ax.set_yscale(\"log\")\n",
    "\n",
    "ax.legend(loc=\"upper left\")\n",
    "ax.set_xticklabels([])\n",
    "ax.set_xlabel(\"Metadata Entries Sorted by Counts\")\n",
    "ax.set_ylabel(\"Cumulative Entry Counts\")\n",
    "ax.set_title(\"MetaCLIP Counts on ImageNet-Captions 250k\", pad=15.0)\n",
    "fig.tight_layout()\n",
    "plt.show()"
   ]
  },
  {
   "cell_type": "code",
   "execution_count": 12,
   "metadata": {},
   "outputs": [
    {
     "name": "stdout",
     "output_type": "stream",
     "text": [
      "1: the\n",
      "2: and\n",
      "3: in\n",
      "4: of\n",
      "5: on\n",
      "6: a\n",
      "7: The\n",
      "8: at\n",
      "9: with\n",
      "10: 2\n"
     ]
    }
   ],
   "source": [
    "# inspect most common entries\n",
    "\n",
    "rank2idx = np.argsort(captions_per_entry)\n",
    "\n",
    "for i in range(1, 11):\n",
    "    print(f\"{i}: {metadata[rank2idx[-i]]}\")"
   ]
  },
  {
   "cell_type": "markdown",
   "metadata": {},
   "source": [
    "## Create Reference Matrix\n",
    "\n",
    "Finally, we create an entries-by-captions matrix as the reference matrix that gets rebalanced."
   ]
  },
  {
   "cell_type": "code",
   "execution_count": 13,
   "metadata": {},
   "outputs": [
    {
     "name": "stdout",
     "output_type": "stream",
     "text": [
      "87235\n",
      "87235\n",
      "87235\n"
     ]
    }
   ],
   "source": [
    "observed_entries = np.arange(len(captions_per_entry))[captions_per_entry != 0]\n",
    "reindex_entry = {entry: i for i, entry in enumerate(observed_entries)}\n",
    "len(reindex_entry)\n",
    "\n",
    "observed_captions = np.array(reindex_captions)\n",
    "\n",
    "print(len(observed_captions))\n",
    "print(len(text_captions))\n",
    "print(len(matched_ids))"
   ]
  },
  {
   "cell_type": "code",
   "execution_count": 14,
   "metadata": {},
   "outputs": [
    {
     "name": "stdout",
     "output_type": "stream",
     "text": [
      "209382\n",
      "209382\n",
      "209382\n",
      "(87235, 18300)\n"
     ]
    }
   ],
   "source": [
    "mat = np.zeros(shape=(len(observed_captions), len(observed_entries))).astype(int)\n",
    "for i, caption in enumerate(text_captions):\n",
    "    ids = matched_ids[caption]\n",
    "    for j in ids:\n",
    "        mat[i, reindex_entry[j]] += 1\n",
    "\n",
    "print(mat.sum())\n",
    "print(captions_per_entry.sum())\n",
    "print(entries_per_caption.sum())\n",
    "print(mat.shape)"
   ]
  },
  {
   "cell_type": "code",
   "execution_count": 16,
   "metadata": {},
   "outputs": [],
   "source": [
    "# use uniform marginal for X so that one example is alloted to each row\n",
    "pmat = mat / mat.sum(axis=1)[:, None]\n",
    "\n",
    "# normalize so the whole thing is a probability measure\n",
    "pmat = pmat / pmat.sum()\n",
    "\n",
    "# compute the marginal over entries\n",
    "entry_marginal = pmat.sum(axis=0)\n",
    "\n",
    "# compute desired marginal based on cutoff\n",
    "t = 50\n",
    "entry_counts = mat.sum(axis=0)\n",
    "cy = entry_counts.copy()\n",
    "cy[cy >= t] = t\n",
    "py = cy / cy.sum()"
   ]
  },
  {
   "cell_type": "code",
   "execution_count": 17,
   "metadata": {},
   "outputs": [],
   "source": [
    "np.save(\"../data/observed_entry_marginal.npy\", entry_marginal)\n",
    "np.save(\"../data/rebalanced_entry_marginal.npy\", py)"
   ]
  },
  {
   "cell_type": "markdown",
   "metadata": {},
   "source": [
    "## Create Rebalanced Training Set\n",
    "\n",
    "We now sample the data according to the balanced probability mass matrix to generate the dataset."
   ]
  },
  {
   "cell_type": "code",
   "execution_count": 18,
   "metadata": {},
   "outputs": [
    {
     "name": "stdout",
     "output_type": "stream",
     "text": [
      "(87235,)\n"
     ]
    }
   ],
   "source": [
    "# rescale \n",
    "pmat1 = pmat * (py / entry_marginal)[None, :]\n",
    "pmat1 = pmat1 / pmat1.sum() # renormalize for numerical reasons\n",
    "\n",
    "n = len(train_df)\n",
    "caption_marginal = pmat1.sum(axis=1)\n",
    "print(caption_marginal.shape)"
   ]
  },
  {
   "cell_type": "code",
   "execution_count": 33,
   "metadata": {},
   "outputs": [
    {
     "data": {
      "image/png": "[encoded data removed]",
      "text/plain": [
       "<Figure size 1000x300 with 1 Axes>"
      ]
     },
     "metadata": {},
     "output_type": "display_data"
    }
   ],
   "source": [
    "sns.set_style(\"whitegrid\")\n",
    "fig, ax = plt.subplots(1, 1, figsize=(10, 3))\n",
    "\n",
    "x = np.arange(len(caption_marginal))\n",
    "\n",
    "ax.plot(x, np.sort(caption_marginal), color=\"coral\")\n",
    "\n",
    "ax.set_title(\"Observed Marginal on Captions\")\n",
    "fig.tight_layout(pad=1.0)\n",
    "plt.show()"
   ]
  },
  {
   "cell_type": "code",
   "execution_count": 19,
   "metadata": {},
   "outputs": [],
   "source": [
    "np.random.seed(123)\n",
    "samples = np.random.choice(reindex_captions, size=(n,), p=caption_marginal, replace=True)\n",
    "\n",
    "# new dataset\n",
    "train_df1 = train_df.iloc[samples, :]\n",
    "\n",
    "train_df1.to_csv(os.path.join(DATA_PATH, \"metaclip_rebalanced_train_df.csv\"), index=False, sep=\"\\t\")"
   ]
  },
  {
   "cell_type": "markdown",
   "metadata": {},
   "source": [
    "## Generate Embeddings\n",
    "\n",
    "This part of the notebook can be run independently after the first part has run, i.e. the example indices of the rebalanced dataset from the previous cell is saved. Finally, we generate embeddings of the datapoints identified above to be used in training runs."
   ]
  },
  {
   "cell_type": "code",
   "execution_count": 42,
   "metadata": {},
   "outputs": [],
   "source": [
    "import pandas as pd\n",
    "import os\n",
    "import torch\n",
    "from tqdm import tqdm\n",
    "import numpy as np\n",
    "\n",
    "import matplotlib.pyplot as plt\n",
    "import seaborn\n",
    "\n",
    "import open_clip\n",
    "from training.data import get_data, CsvDataset\n",
    "from training.params import parse_args\n",
    "from torch.utils.data import DataLoader\n",
    "from torch.utils.data.distributed import DistributedSampler"
   ]
  },
  {
   "cell_type": "code",
   "execution_count": 40,
   "metadata": {},
   "outputs": [
    {
     "data": {
      "text/html": [
       "<div>\n",
       "<style scoped>\n",
       "    .dataframe tbody tr th:only-of-type {\n",
       "        vertical-align: middle;\n",
       "    }\n",
       "\n",
       "    .dataframe tbody tr th {\n",
       "        vertical-align: top;\n",
       "    }\n",
       "\n",
       "    .dataframe thead th {\n",
       "        text-align: right;\n",
       "    }\n",
       "</style>\n",
       "<table border=\"1\" class=\"dataframe\">\n",
       "  <thead>\n",
       "    <tr style=\"text-align: right;\">\n",
       "      <th></th>\n",
       "      <th>title</th>\n",
       "      <th>filepath</th>\n",
       "    </tr>\n",
       "  </thead>\n",
       "  <tbody>\n",
       "    <tr>\n",
       "      <th>0</th>\n",
       "      <td>KG4-031L</td>\n",
       "      <td>/mnt/ssd/ronak/datasets/imagenet_captions_250k...</td>\n",
       "    </tr>\n",
       "    <tr>\n",
       "      <th>1</th>\n",
       "      <td>Trafalgar Bookshop</td>\n",
       "      <td>/mnt/ssd/ronak/datasets/imagenet_captions_250k...</td>\n",
       "    </tr>\n",
       "    <tr>\n",
       "      <th>2</th>\n",
       "      <td>Lion cub Zenda getting ready to yawn</td>\n",
       "      <td>/mnt/ssd/ronak/datasets/imagenet_captions_250k...</td>\n",
       "    </tr>\n",
       "    <tr>\n",
       "      <th>3</th>\n",
       "      <td>03</td>\n",
       "      <td>/mnt/ssd/ronak/datasets/imagenet_captions_250k...</td>\n",
       "    </tr>\n",
       "    <tr>\n",
       "      <th>4</th>\n",
       "      <td>Bittern11Mar21_2008</td>\n",
       "      <td>/mnt/ssd/ronak/datasets/imagenet_captions_250k...</td>\n",
       "    </tr>\n",
       "    <tr>\n",
       "      <th>...</th>\n",
       "      <td>...</td>\n",
       "      <td>...</td>\n",
       "    </tr>\n",
       "    <tr>\n",
       "      <th>174589</th>\n",
       "      <td>Guacamole at That Burrito Place</td>\n",
       "      <td>/mnt/ssd/ronak/datasets/imagenet_captions_250k...</td>\n",
       "    </tr>\n",
       "    <tr>\n",
       "      <th>174590</th>\n",
       "      <td>PRC Abarth Pedrazza Racing Cars :: eu-moto © E...</td>\n",
       "      <td>/mnt/ssd/ronak/datasets/imagenet_captions_250k...</td>\n",
       "    </tr>\n",
       "    <tr>\n",
       "      <th>174591</th>\n",
       "      <td>P1019299</td>\n",
       "      <td>/mnt/ssd/ronak/datasets/imagenet_captions_250k...</td>\n",
       "    </tr>\n",
       "    <tr>\n",
       "      <th>174592</th>\n",
       "      <td>Two boxers</td>\n",
       "      <td>/mnt/ssd/ronak/datasets/imagenet_captions_250k...</td>\n",
       "    </tr>\n",
       "    <tr>\n",
       "      <th>174593</th>\n",
       "      <td>DSCF0061</td>\n",
       "      <td>/mnt/ssd/ronak/datasets/imagenet_captions_250k...</td>\n",
       "    </tr>\n",
       "  </tbody>\n",
       "</table>\n",
       "<p>174594 rows × 2 columns</p>\n",
       "</div>"
      ],
      "text/plain": [
       "                                                    title  \\\n",
       "0                                                KG4-031L   \n",
       "1                                      Trafalgar Bookshop   \n",
       "2                    Lion cub Zenda getting ready to yawn   \n",
       "3                                                      03   \n",
       "4                                     Bittern11Mar21_2008   \n",
       "...                                                   ...   \n",
       "174589                    Guacamole at That Burrito Place   \n",
       "174590  PRC Abarth Pedrazza Racing Cars :: eu-moto © E...   \n",
       "174591                                           P1019299   \n",
       "174592                                         Two boxers   \n",
       "174593                                           DSCF0061   \n",
       "\n",
       "                                                 filepath  \n",
       "0       /mnt/ssd/ronak/datasets/imagenet_captions_250k...  \n",
       "1       /mnt/ssd/ronak/datasets/imagenet_captions_250k...  \n",
       "2       /mnt/ssd/ronak/datasets/imagenet_captions_250k...  \n",
       "3       /mnt/ssd/ronak/datasets/imagenet_captions_250k...  \n",
       "4       /mnt/ssd/ronak/datasets/imagenet_captions_250k...  \n",
       "...                                                   ...  \n",
       "174589  /mnt/ssd/ronak/datasets/imagenet_captions_250k...  \n",
       "174590  /mnt/ssd/ronak/datasets/imagenet_captions_250k...  \n",
       "174591  /mnt/ssd/ronak/datasets/imagenet_captions_250k...  \n",
       "174592  /mnt/ssd/ronak/datasets/imagenet_captions_250k...  \n",
       "174593  /mnt/ssd/ronak/datasets/imagenet_captions_250k...  \n",
       "\n",
       "[174594 rows x 2 columns]"
      ]
     },
     "execution_count": 40,
     "metadata": {},
     "output_type": "execute_result"
    }
   ],
   "source": [
    "NUM_CLASSES = 250\n",
    "DATA_PATH = f'/mnt/ssd/ronak/datasets/rebalanced_imagenet_captions_{NUM_CLASSES}k'\n",
    "\n",
    "\n",
    "df1 = pd.read_csv(os.path.join(DATA_PATH, \"metaclip_rebalanced_train_df.csv\"), sep=\"\\t\")\n",
    "df1"
   ]
  },
  {
   "cell_type": "markdown",
   "metadata": {},
   "source": [
    "Set the device below."
   ]
  },
  {
   "cell_type": "code",
   "execution_count": 44,
   "metadata": {},
   "outputs": [
    {
     "name": "stdout",
     "output_type": "stream",
     "text": [
      "Log scale: Parameter containing:\n",
      "tensor(4.6052, device='cuda:3', requires_grad=True)\n",
      "Scale: tensor(100., device='cuda:3', grad_fn=<ExpBackward0>)\n"
     ]
    }
   ],
   "source": [
    "MODEL_NAME = \"vit_b32_laion2b\"\n",
    "DEVICE = 'cuda:3'\n",
    "\n",
    "model, preprocess_train, preprocess_val = open_clip.create_model_and_transforms('ViT-B-32', pretrained='laion2b_s34b_b79k')\n",
    "model.to(DEVICE)\n",
    "tokenizer = open_clip.get_tokenizer('ViT-B-32')\n",
    "\n",
    "print(\"Log scale:\", model.logit_scale)\n",
    "print(\"Scale:\", model.logit_scale.exp())"
   ]
  },
  {
   "cell_type": "code",
   "execution_count": 46,
   "metadata": {},
   "outputs": [],
   "source": [
    "params = [\n",
    "    \"--train-data\", os.path.join(DATA_PATH, \"metaclip_rebalanced_train_df.csv\"),\n",
    "    \"--val-data\", f\"imagenet_captions_250k/imagenet_captions_val_c{NUM_CLASSES}.csv\",\n",
    "    \"--dataset-type\", \"csv\",\n",
    "    \"--csv-img-key\", \"filepath\",\n",
    "    \"--csv-caption-key\", \"title\"\n",
    "]\n",
    "args = parse_args(params)\n",
    "args.distributed = False\n",
    "\n",
    "# Create dataloader from scratch to not drop last\n",
    "is_train = True\n",
    "input_filename = args.train_data if is_train else args.val_data\n",
    "assert input_filename\n",
    "dataset = CsvDataset(\n",
    "    input_filename,\n",
    "    preprocess_train,\n",
    "    img_key=args.csv_img_key,\n",
    "    caption_key=args.csv_caption_key,\n",
    "    sep=args.csv_separator,\n",
    "    tokenizer=tokenizer,\n",
    ")\n",
    "num_samples = len(dataset)\n",
    "sampler = DistributedSampler(dataset) if args.distributed and is_train else None\n",
    "shuffle = is_train and sampler is None\n",
    "\n",
    "dataloader = DataLoader(\n",
    "    dataset,\n",
    "    batch_size=1024,\n",
    "    shuffle=shuffle,\n",
    "    num_workers=args.workers,\n",
    "    pin_memory=True,\n",
    "    sampler=sampler,\n",
    "    drop_last=False,\n",
    ")\n",
    "dataloader.num_samples = num_samples\n",
    "dataloader.num_batches = len(dataloader)"
   ]
  },
  {
   "cell_type": "markdown",
   "metadata": {},
   "source": [
    "As in `notebooks/create_imagenet_captions.ipynb`, we test the dataloader by observing an image and caption pair example."
   ]
  },
  {
   "cell_type": "code",
   "execution_count": 47,
   "metadata": {},
   "outputs": [
    {
     "name": "stderr",
     "output_type": "stream",
     "text": [
      "WARNING:matplotlib.image:Clipping input data to the valid range for imshow with RGB data ([0..1] for floats or [0..255] for integers).\n"
     ]
    },
    {
     "name": "stdout",
     "output_type": "stream",
     "text": [
      "torch.Size([1024, 3, 224, 224])\n",
      "torch.Size([1024, 77])\n"
     ]
    },
    {
     "data": {
      "image/png": "[encoded data removed]",
      "text/plain": [
       "<Figure size 200x200 with 1 Axes>"
      ]
     },
     "metadata": {},
     "output_type": "display_data"
    },
    {
     "name": "stdout",
     "output_type": "stream",
     "text": [
      "<start_of_text>remainder of guacamole <end_of_text>!!!!!!!!!!!!!!!!!!!!!!!!!!!!!!!!!!!!!!!!!!!!!!!!!!!!!!!!!!!!!!!!!!!!!!!!\n"
     ]
    }
   ],
   "source": [
    "for i, batch in enumerate(dataloader):\n",
    "    idx, images, texts = batch\n",
    "    break\n",
    "\n",
    "print(images.shape)\n",
    "print(texts.shape)\n",
    "\n",
    "batch_id = 0\n",
    "\n",
    "# show image from dataloader\n",
    "img = images[batch_id].numpy().transpose([1, 2, 0])\n",
    "fig, ax = plt.subplots(figsize=(2, 2))\n",
    "ax.axis(\"off\")\n",
    "ax.imshow(img)\n",
    "plt.show()\n",
    "\n",
    "# show decoded text from dataloader\n",
    "txt = texts[batch_id]\n",
    "print(tokenizer.decode([elem.item() for elem in txt]))"
   ]
  },
  {
   "cell_type": "code",
   "execution_count": null,
   "metadata": {},
   "outputs": [],
   "source": [
    "if os.path.exists(os.path.join(DATA_PATH, f\"{MODEL_NAME}_image_features.npy\")):\n",
    "    print(\"found embeddings - loading...\")\n",
    "    all_image_features = np.load(os.path.join(DATA_PATH, f\"{MODEL_NAME}_image_features.npy\"))\n",
    "    all_text_features = np.load(os.path.join(DATA_PATH, f\"{MODEL_NAME}_text_features.npy\"))\n",
    "    all_idx = np.load(os.path.join(DATA_PATH, f\"{MODEL_NAME}_idx.npy\"))\n",
    "else:\n",
    "    all_image_features, all_text_features, all_idx = [], [], []\n",
    "    with torch.no_grad():\n",
    "        for i, batch in tqdm(enumerate(dataloader)):\n",
    "            idx, images, texts = batch\n",
    "            image_features = model.encode_image(images.to(DEVICE))\n",
    "            text_features = model.encode_text(texts.to(DEVICE))\n",
    "            image_features /= image_features.norm(dim=-1, keepdim=True)\n",
    "            text_features /= text_features.norm(dim=-1, keepdim=True)\n",
    "            all_image_features.append(image_features)\n",
    "            all_text_features.append(text_features)\n",
    "            all_idx.append(idx)\n",
    "            \n",
    "    all_image_features = torch.cat(all_image_features).cpu().detach().numpy()\n",
    "    all_text_features = torch.cat(all_text_features).cpu().detach().numpy()\n",
    "    all_idx = torch.cat(all_idx).cpu().detach().numpy()\n",
    "\n",
    "    # Because the indices were random, we reorder them to be in line with the original dataset order.\n",
    "    reorder = np.argsort(all_idx)\n",
    "    np.save(os.path.join(DATA_PATH, f\"{MODEL_NAME}_image_features.npy\"), all_image_features[reorder])\n",
    "    np.save(os.path.join(DATA_PATH, f\"{MODEL_NAME}_text_features.npy\"), all_text_features[reorder])\n",
    "    np.save(os.path.join(DATA_PATH, f\"{MODEL_NAME}_idx.npy\"), all_idx[reorder])\n",
    "\n",
    "print(all_image_features.shape)\n",
    "print(all_text_features.shape)\n",
    "print(all_idx.shape)"
   ]
  }
 ],
 "metadata": {
  "kernelspec": {
   "display_name": "dl",
   "language": "python",
   "name": "python3"
  },
  "language_info": {
   "codemirror_mode": {
    "name": "ipython",
    "version": 3
   },
   "file_extension": ".py",
   "mimetype": "text/x-python",
   "name": "python",
   "nbconvert_exporter": "python",
   "pygments_lexer": "ipython3",
   "version": "3.11.5"
  }
 },
 "nbformat": 4,
 "nbformat_minor": 2
}
