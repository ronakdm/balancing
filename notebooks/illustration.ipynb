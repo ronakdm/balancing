{
 "cells": [
  {
   "cell_type": "markdown",
   "metadata": {},
   "source": [
    "# Illustration of Data Balancing Procedure\n",
    "\n",
    "In this Jupyter notebook, we provide a lightweight example that shows the effect of data balancing iterations on a simulated joint distribution."
   ]
  },
  {
   "cell_type": "code",
   "execution_count": 2,
   "metadata": {},
   "outputs": [],
   "source": [
    "import matplotlib.pyplot as plt\n",
    "import seaborn as sns\n",
    "import matplotlib as mpl\n",
    "import numpy as np\n",
    "import pandas as pd\n",
    "import scipy\n",
    "\n",
    "import warnings\n",
    "warnings.filterwarnings('ignore') # deprecation warnings from seaborn internals"
   ]
  },
  {
   "cell_type": "code",
   "execution_count": 3,
   "metadata": {},
   "outputs": [],
   "source": [
    "import matplotlib as mpl\n",
    "\n",
    "mpl.rcParams['lines.linewidth'] = 4\n",
    "mpl.rcParams['xtick.labelsize'] = 20\n",
    "mpl.rcParams['ytick.labelsize'] = 20\n",
    "mpl.rcParams[\"axes.labelsize\"] = 20\n",
    "mpl.rcParams['legend.fontsize'] = 33\n",
    "mpl.rcParams['axes.titlesize'] = 32\n",
    "mpl.rcParams['pdf.fonttype'] = 42\n",
    "mpl.rcParams['ps.fonttype'] = 42\n",
    "\n",
    "data_color = \"dodgerblue\"\n",
    "true_color = \"lightsalmon\"\n",
    "title_size = 20"
   ]
  },
  {
   "cell_type": "markdown",
   "metadata": {},
   "source": [
    "The method can be implemented with a few lines, as seen in the `data_balance` function below."
   ]
  },
  {
   "cell_type": "code",
   "execution_count": 4,
   "metadata": {},
   "outputs": [],
   "source": [
    "def count_freq(X, Y, sizes):\n",
    "    \"\"\"\n",
    "    Compute the histogram/joint probability mass function of integer-valued paired data.\n",
    "    \"\"\"\n",
    "    pairs = list(zip(X, Y))\n",
    "    ind, count = np.unique(pairs, axis=0, return_counts=True)\n",
    "    cmat = np.zeros(sizes)\n",
    "    cmat[ind[:, 0], ind[:, 1]] = count\n",
    "    return cmat / len(pairs)\n",
    "\n",
    "\n",
    "def data_balance(X, Y, marginals, num_iter):\n",
    "    \"\"\"\n",
    "    Apply `num_iter` balancing iterations to empirical data and return the sequence of joint distributions.\n",
    "    \"\"\"\n",
    "    pmat = count_freq(X, Y, (len(marginals[0]), len(marginals[1])))\n",
    "    if np.sum(np.sum(pmat, axis=1) == 0) + np.sum(np.sum(pmat, axis=0) == 0) > 0:\n",
    "        raise RuntimeError(\n",
    "            \"Missing mass in this sample. Try a larger sample size.\")\n",
    "        \n",
    "    est = [pmat.copy()]\n",
    "    for i in range(1, num_iter):\n",
    "        pmat = (marginals[0] / np.sum(pmat, axis=1)).reshape(-1, 1) * pmat\n",
    "        pmat = pmat * (marginals[1] / np.sum(pmat, axis=0))\n",
    "        est.append(pmat.copy())\n",
    "    return est"
   ]
  },
  {
   "cell_type": "markdown",
   "metadata": {},
   "source": [
    "## Simulate Data\n",
    "\n",
    "We first simulate a joint data distribution by specifying $P_X$ and $P_{Y|X}$."
   ]
  },
  {
   "cell_type": "code",
   "execution_count": 5,
   "metadata": {},
   "outputs": [],
   "source": [
    "np.random.seed(123)\n",
    "\n",
    "# set true distribution\n",
    "m = 50\n",
    "bias = 0.5\n",
    "transition = np.random.rand(m, m)\n",
    "transition = np.arange(m + 1)[1:][:, None] * np.arange(m + 1)[1:][None, :] + bias * m * np.ones(shape=(m, m))\n",
    "transition = transition / transition.sum(axis=0)[None, :]\n",
    "weight = 0.8\n",
    "nums = np.arange(m)\n",
    "p = 0.7\n",
    "px = weight * np.exp(np.log(scipy.special.binom(m-1, nums)) + nums * np.log(p) + (m - 1 - nums) * np.log(1 - p)) + (1 - weight) * np.ones(m) / m\n",
    "prob = transition * px[None, :]\n",
    "py = prob.sum(axis=1)\n",
    "marginals = (py, px) # each marginal is of size m"
   ]
  },
  {
   "cell_type": "markdown",
   "metadata": {},
   "source": [
    "Below, we plot the true marginal distributions $(P_X, P_Y)$ in the form of histograms."
   ]
  },
  {
   "cell_type": "code",
   "execution_count": 6,
   "metadata": {},
   "outputs": [
    {
     "data": {
      "image/png": "[encoded data removed]",
      "text/plain": [
       "<Figure size 800x500 with 2 Axes>"
      ]
     },
     "metadata": {},
     "output_type": "display_data"
    }
   ],
   "source": [
    "sns.set_style(\"white\")\n",
    "edges=False\n",
    "color = true_color\n",
    "fig, ax = plt.subplots(2, 1, figsize=(8, 5))\n",
    "\n",
    "# sample original data\n",
    "n = 1000000\n",
    "data = np.random.choice(m ** 2, size=(n,), p=prob.reshape(-1))\n",
    "x = data // m\n",
    "y = data % m\n",
    "num_iter = 4\n",
    "\n",
    "n = len(x)\n",
    "m = len(np.unique(x))\n",
    "\n",
    "# flip X to match orientation\n",
    "if edges:\n",
    "    ax[0].hist(x, color=color, bins=m, edgecolor=\"k\")\n",
    "    ax[1].hist(-y, color=color, bins=m, edgecolor=\"k\")\n",
    "else:\n",
    "    ax[0].hist(x, color=color, bins=m)\n",
    "    ax[1].hist(-y, color=color, bins=m)\n",
    "    \n",
    "ax[0].set_xticks([])\n",
    "ax[1].set_xticks([])\n",
    "ax[0].set_yticks([])\n",
    "ax[1].set_yticks([])\n",
    "\n",
    "ax[0].set_xlabel(r\"$X$\", fontsize=30)\n",
    "ax[1].set_xlabel(r\"$Y$\", fontsize=30)\n",
    "\n",
    "fig.tight_layout(pad=0.5)\n",
    "plt.show()"
   ]
  },
  {
   "cell_type": "markdown",
   "metadata": {},
   "source": [
    "## Balance the Empirical Distribution\n",
    "\n",
    "We then sample data from this distribution to generate a dataset of $(X_1, Y_1), \\ldots, (X_n, Y_n)$ of iid pairs."
   ]
  },
  {
   "cell_type": "code",
   "execution_count": 7,
   "metadata": {},
   "outputs": [],
   "source": [
    "# sample original data\n",
    "n = 1000\n",
    "data = np.random.choice(m ** 2, size=(n,), p=prob.reshape(-1))\n",
    "x = data // m\n",
    "y = data % m\n",
    "num_iter = 4\n",
    "\n",
    "# get empirical distribution and balanced  estimators\n",
    "est = data_balance(x, y, marginals, num_iter)"
   ]
  },
  {
   "cell_type": "code",
   "execution_count": 8,
   "metadata": {},
   "outputs": [],
   "source": [
    "# seaborn joint plot requires data, so we generate a large dataset from a joint pmf\n",
    "def generate(jpmf, n=1000000):\n",
    "    np.random.seed(123)\n",
    "    data = np.random.choice(m ** 2, size=(n,), p=jpmf.reshape(-1))\n",
    "    x = data // m\n",
    "    y = data % m\n",
    "    return pd.DataFrame({'x': x, 'y': y})"
   ]
  },
  {
   "cell_type": "markdown",
   "metadata": {},
   "source": [
    "We then visualize each iteration of the procedure."
   ]
  },
  {
   "cell_type": "code",
   "execution_count": 9,
   "metadata": {},
   "outputs": [
    {
     "data": {
      "image/png": "[encoded data removed]",
      "text/plain": [
       "<Figure size 600x600 with 3 Axes>"
      ]
     },
     "metadata": {},
     "output_type": "display_data"
    }
   ],
   "source": [
    "iteration = 0\n",
    "\n",
    "jpmf = est[iteration]\n",
    "df = generate(jpmf)\n",
    "\n",
    "g = sns.jointplot(data=df, x='x', y='y', kind='hist', bins=(m, m), color=data_color)\n",
    "g.ax_joint.set_xticks([])\n",
    "g.ax_joint.set_yticks([])\n",
    "g.ax_joint.set_xlabel(r\"$Y$\")\n",
    "g.ax_joint.set_ylabel(r\"$X$\")\n",
    "\n",
    "g.fig.subplots_adjust(hspace=0.01, wspace=0.01)\n",
    "g.fig.suptitle(f\"Iteration {iteration}\", y=1.02, fontsize=title_size)\n",
    "\n",
    "plt.show()"
   ]
  },
  {
   "cell_type": "code",
   "execution_count": 10,
   "metadata": {},
   "outputs": [
    {
     "data": {
      "image/png": "[encoded data removed]",
      "text/plain": [
       "<Figure size 600x600 with 3 Axes>"
      ]
     },
     "metadata": {},
     "output_type": "display_data"
    }
   ],
   "source": [
    "iteration = 1\n",
    "\n",
    "joint = est[iteration]\n",
    "df = generate(joint)\n",
    "\n",
    "g = sns.jointplot(data=df, x='x', y='y', kind='hist', bins=(m, m), color=data_color)\n",
    "g.ax_joint.set_xticks([])\n",
    "g.ax_joint.set_yticks([])\n",
    "g.ax_joint.set_xlabel(r\"$Y$\")\n",
    "g.ax_joint.set_ylabel(r\"$X$\")\n",
    "\n",
    "for patch in g.ax_marg_y.patches:\n",
    "    patch.set_facecolor(true_color)\n",
    "\n",
    "g.fig.subplots_adjust(hspace=0.01, wspace=0.01)\n",
    "g.fig.suptitle(f\"Iteration {iteration}\", y=1.02, fontsize=title_size)\n",
    "\n",
    "plt.show()"
   ]
  },
  {
   "cell_type": "code",
   "execution_count": 11,
   "metadata": {},
   "outputs": [
    {
     "data": {
      "image/png": "[encoded data removed]",
      "text/plain": [
       "<Figure size 600x600 with 3 Axes>"
      ]
     },
     "metadata": {},
     "output_type": "display_data"
    }
   ],
   "source": [
    "iteration = 2\n",
    "title_size = 20\n",
    "\n",
    "joint = est[iteration]\n",
    "df = generate(joint)\n",
    "\n",
    "g = sns.jointplot(data=df, x='x', y='y', kind='hist', bins=(m, m), color=data_color)\n",
    "g.ax_joint.set_xticks([])\n",
    "g.ax_joint.set_yticks([])\n",
    "g.ax_joint.set_xlabel(r\"$Y$\")\n",
    "g.ax_joint.set_ylabel(r\"$X$\")\n",
    "\n",
    "for patch in g.ax_marg_x.patches:\n",
    "    patch.set_facecolor(true_color)\n",
    "\n",
    "g.fig.subplots_adjust(hspace=0.01, wspace=0.01)\n",
    "g.fig.suptitle(f\"Iteration {iteration}\", y=1.02, fontsize=title_size)\n",
    "\n",
    "plt.show()"
   ]
  },
  {
   "cell_type": "code",
   "execution_count": null,
   "metadata": {},
   "outputs": [],
   "source": []
  }
 ],
 "metadata": {
  "kernelspec": {
   "display_name": "dl",
   "language": "python",
   "name": "python3"
  },
  "language_info": {
   "codemirror_mode": {
    "name": "ipython",
    "version": 3
   },
   "file_extension": ".py",
   "mimetype": "text/x-python",
   "name": "python",
   "nbconvert_exporter": "python",
   "pygments_lexer": "ipython3",
   "version": "3.11.5"
  }
 },
 "nbformat": 4,
 "nbformat_minor": 2
}
