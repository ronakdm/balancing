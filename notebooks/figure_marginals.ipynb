{
 "cells": [
  {
   "cell_type": "markdown",
   "metadata": {},
   "source": [
    "# Empirical Marginal Distribution of CLIP Model\n",
    "\n",
    "This notebook recreates Figure 3 of the manuscript, which shows the empirical marginals $P_{\\theta, X}^{(k)}$, $Q_{\\theta, X}^{(k)}$, $P_{\\theta, Y}^{(k)}$, and $Q_{\\theta, Y}^{(k)}$ as described in Sections 2 and 4 of the paper. This marginal is computed via the following steps:\n",
    "1. Randomly initialize a CLIP model $(f_{\\theta_I}, f_{\\theta_T})$ (as in the notation of Section 2 Example 2).\n",
    "2. Pass a minibatch of images-text pairs $\\{(X_1, Y_1), \\ldots (X_n, Y_n)\\}$ through the model.\n",
    "3. Compute $P_{\\theta}^{(k)}$ and $Q_{\\theta}^{(k)}$ using Equation 5, which are joint probability mass functions (i.e.~$n \\times n$ matrices).\n",
    "4. Marginalize the joint probability mass functions to compute  $P_{\\theta, X}^{(k)}$, $Q_{\\theta, X}^{(k)}$, $P_{\\theta, Y}^{(k)}$, and $Q_{\\theta, Y}^{(k)}$."
   ]
  },
  {
   "cell_type": "code",
   "execution_count": 1,
   "metadata": {},
   "outputs": [],
   "source": [
    "import torch\n",
    "import torch.nn.functional as F\n",
    "import matplotlib.pyplot as plt\n",
    "import seaborn as sns\n",
    "\n",
    "import sys\n",
    "sys.path.append(\"..\")\n",
    "from src.multimodal_models import MiniCLIP\n",
    "from src.multimodal_data import get_multimodal_dataloaders\n",
    "\n",
    "import matplotlib as mpl\n",
    "\n",
    "mpl.rcParams['lines.linewidth'] = 4\n",
    "mpl.rcParams['xtick.labelsize'] = 20\n",
    "mpl.rcParams['ytick.labelsize'] = 20\n",
    "mpl.rcParams[\"axes.labelsize\"] = 20\n",
    "mpl.rcParams['legend.fontsize'] = 33\n",
    "mpl.rcParams['axes.titlesize'] = 32\n",
    "# mpl.rcParams['text.usetex'] = True\n",
    "mpl.rcParams['pdf.fonttype'] = 42\n",
    "mpl.rcParams['ps.fonttype'] = 42"
   ]
  },
  {
   "cell_type": "markdown",
   "metadata": {},
   "source": [
    "Select the device below."
   ]
  },
  {
   "cell_type": "code",
   "execution_count": 2,
   "metadata": {},
   "outputs": [],
   "source": [
    "DEVICE = \"cuda:0\""
   ]
  },
  {
   "cell_type": "markdown",
   "metadata": {},
   "source": [
    "Next, navigate to the location of the Imagenet-Captions dataset on your system, and set the path to the `root` variable below."
   ]
  },
  {
   "cell_type": "code",
   "execution_count": null,
   "metadata": {},
   "outputs": [],
   "source": [
    "# load data\n",
    "batch_size = 16\n",
    "rank = 0\n",
    "root = \"/mnt/ssd/ronak/datasets/imagenet_captions_250k\"\n",
    "img_embed = \"vit_b32_laion2b\"\n",
    "txt_embed = \"vit_b32_datacompxl\"\n",
    "\n",
    "train_dataloader, test_dataloader = get_multimodal_dataloaders(\n",
    "    batch_size, \n",
    "    rank, \n",
    "    img_embed,\n",
    "    txt_embed,\n",
    "    root=root, \n",
    "    quantization=None,\n",
    ")"
   ]
  }
 ],
 "metadata": {
  "kernelspec": {
   "display_name": "dl",
   "language": "python",
   "name": "python3"
  },
  "language_info": {
   "codemirror_mode": {
    "name": "ipython",
    "version": 3
   },
   "file_extension": ".py",
   "mimetype": "text/x-python",
   "name": "python",
   "nbconvert_exporter": "python",
   "pygments_lexer": "ipython3",
   "version": "3.11.5"
  }
 },
 "nbformat": 4,
 "nbformat_minor": 2
}
